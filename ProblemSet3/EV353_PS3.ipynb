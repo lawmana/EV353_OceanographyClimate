{
 "cells": [
  {
   "cell_type": "markdown",
   "id": "a456a11a-c033-4e74-8bd4-0b77ade62b96",
   "metadata": {
    "deletable": false,
    "editable": false
   },
   "source": [
    "# EV353 Problem Set 3 - Coupled Climate Variability and Buoyancy Forcing \n",
    "### Part 2: Python Data Analysis\n",
    "\n",
    "### Overview\n",
    "\n",
    "Ocean-atmosphere interactions give rise to many flavors of natural climate variability that have significant impacts on society, including freshwater resources, human health, and hurricane activity. The ocean’s density-driven thermohaline circulation also helps shape global climate, particularly on longer timescales ranging from decades to millennia.\n",
    "\n",
    "In this problem set, you will demonstrate both your qualitative and quantitative understanding of the mechanisms by which the ocean and atmosphere influence each other and how the ocean responds to buoyancy forcing. Your responses should incorporate the concepts covered in class and the assigned readings. Chapters 6.3, 7 and 8 in Physical Oceanography and Climate by Kris Karnauskas and this week’s scientific papers will be helpful references. \n",
    "\n",
    "**To foster a collaborative learning environment, you will complete this lab with a partner.** The pairings will be randomly determined in class and posted on Canvas. Each person is required to complete and contribute to all questions. This includes conducting all calculations/analyses and writing your own code. *It is against the honor code to divide up the questions among different individuals or use generative AI/chatbots on any aspect this assignment. All answers must be written in your own words.*\n",
    "\n",
    "\n",
    "### Learning Outcomes\n",
    "\n",
    "After completing this assignment, you will be able to:\n",
    "- Describe the mechanisms by which the ocean and atmosphere influence each other to yield modes of natural climate variability. Here focusing on the El Niño-Southern Oscillation (ENSO).\n",
    "- Characterize observed ENSO variability using real-world observations.\n",
    "- Compare and contrast the dominant physical processes leading to deep water formation.\n",
    "- Identify and articulate the significance of ENSO and Meridional Overturning Circulation in the context of the broader global climate system.\n",
    "\n",
    "### Assignment Structure\n",
    "\n",
    "**Part 1** includes written responses and hand calculations. To receive full credit, you must show your work and explain your reasoning. **Part 2** includes data analysis exercises in Python. You will use this Jupyter Notebooks to manipulate and visualize geospatial datasets, perform calculations, and interpret the results.\n",
    "\n",
    "---\n",
    "### Data Sets \n",
    "To complete this lab, you will need the following data sets (posted on Canvas):\n",
    "1. ``oiv2.nc`` NOAA Optimal Interpolation Sea Surface Temperature version 2 (OISST v2) \n",
    "2. ``rapid.nc`` RAPID array of moorings to measure the variability of the meridional overturning circulation (MOC)\n",
    "3. `ersst.nc` NOAA Extended Reconstructed SST V5\n",
    "\n",
    "---\n",
    "### Assessment\n",
    "Generating high-quality figures is an important part of science comunication! All figures (time series & maps) must be properly formatted to receive full credit. This means including titles, axes labels (with units), and legends, as appropriate. The aspect ratio should be appropriate for the type of figure (i.e., the figures are not compressed or stretched). \n",
    "\n",
    "Please use the Python packages [cartopy](https://scitools.org.uk/cartopy/docs/latest/) and [cmocean colormaps for oceanography](https://matplotlib.org/cmocean/) when generating maps. Take care to use intuitive colormaps and colorbar levels for the type of data you are representing. \n",
    "\n",
    "The grading rubric for part 2 is provided at the end of the companion Word Document for this assignment."
   ]
  },
  {
   "cell_type": "code",
   "execution_count": 1,
   "id": "65e76f8d-8316-45c2-a64c-83acacaf3332",
   "metadata": {
    "deletable": false,
    "editable": false
   },
   "outputs": [],
   "source": [
    "# import Python packages\n",
    "import xarray as xr\n",
    "import numpy as np\n",
    "import matplotlib.pyplot as plt\n",
    "import cmocean\n",
    "import cartopy.crs as ccrs\n",
    "import cartopy.feature as cfeature\n",
    "from cartopy.util import add_cyclic_point\n",
    "import scipy.stats"
   ]
  },
  {
   "attachments": {},
   "cell_type": "markdown",
   "id": "a07d5909-7475-41a5-815c-a4a1ebffab33",
   "metadata": {
    "deletable": false,
    "editable": false
   },
   "source": [
    "### Question 1 [13 points]: Global SST Variability and ENSO Indices\n",
    "\n",
    "Using the NOAA OISSTv2 product, calculate the four common ENSO indices based on monthly SST anomalies: NINO1+2, NINO3, NINO3.4, and NINO4 (a map is provided in the Word document for the problem set). Remember to remove the average seasonal cycle (i.e., the climatology) to calculate monthly SST anomalies. Explore their variability by making a figure that overlays these four time series. Add a title, legend, and label all axes (including the units). Include a horizontal line at 0°C for reference. Paste your plot in your main problem set document. \n",
    "\n",
    "**a.** Both qualitatively and quantitatively, how do the four indices compare to one another in terms of their amplitude of SST variability (e.g., standard deviation)? \n",
    "\n",
    "**b.** Generate a global map of some measure of the variability of SST anomalies. Given that there is no analysis over land, fill in the land to highlight only the SST data (e.g., with a light gray color).Include your map in this document. Does this map confirm your results from part (a)?\n",
    "\n",
    "**c.** Which two ENSO indices have the lowest temporal correlation with one another? To answer this question, calculate the Pearson correlation coefficients for different combinations of indices and fill in the unshaded cells in the table provided in the problem set document.\n",
    "\n",
    "**d.**\tDefine a criterion (or set of criteria) for an El Niño event. Based on this criterion, how many El Niño events occurred from 1982 to the end of the dataset? What period (as in 1/frequency) does that imply for ENSO as an oscillation? Does your simple estimate of the period fall within the widely-cited ENSO period of 2-7 years?\n",
    "\n",
    "**e.**\tGoogle the latest ENSO forecast from the NOAA Climate Prediction Center (CPC) or the International Research Institute for Climate and Society (IRI). If there is a forecasted El Niño or La Niña on the horizon, how does it compare to past events? Would it qualify as an El Niño based on your definition in part (d) of this question?\n",
    "\n",
    "---\n",
    "**Hints:**\n",
    "\n",
    "*Calculating the ENSO Indices*\n",
    "- Use the xarray `DataArray.groupby()` method to group the data by month and calculate the monthly means for every grid point in the data (e.g., average January, average February, etc...). Here `DataArray` would be subsituted with the name of your DataArray variable. This is the average seasonal cycle.\n",
    "- For example: `DataArray.groupby(DataArray['time'].dt.month)` (see example code below) will give you a DataArray grouped over 'month.' Use this to determine the average (i.e., the mean) seasonal cycle.\n",
    "- Subtract the average seasonal cycle from the SST values to calculate the monthly SST anomalies at each grid point.\n",
    "- The OISSTv2 data set is on a [0, 360] E longitude grid. If a location is in the western hemisphere, add 360 to the longitude values (expressed as negative numbers) to convert from degrees W to degrees E.\n",
    "- Use the xarray `DataArray.where()` function to subset the data to a specified region based on latitude/longitude (an example for the tropical Pacific is below).\n",
    "\n",
    "*Calculating Pearson correlation coefficients*\n",
    "- Use the SciPy Stats Python package to calculate the Pearson correlation coefficeints: `scipy.stats.pearsonr(x,y)` where x and y are the two times series you want to correlate.\n",
    "\n",
    "**Example code:**\n",
    "\n",
    "```\n",
    "# group a DataArray called 'sst' by month and calculate the average monthly values (i.e., the climatology)\n",
    "sst.groupby(sst['time'].dt.month).mean()\n",
    "\n",
    "# calculate average SST for the whole tropical Pacific (here sst is a DataArray)\n",
    "tropicalPacific = sst.where((ssta.lat >= -30) & (ssta.lat <= 30) & \n",
    "                     (sst.lon >= 120) & (sst.lon <= 280), \n",
    "                     drop = True).mean(dim=['lat','lon'])\n",
    "```"
   ]
  },
  {
   "cell_type": "markdown",
   "id": "8bc5307f-cfdc-4b3d-ba6e-da2665e83b2f",
   "metadata": {
    "deletable": false,
    "editable": false
   },
   "source": [
    "### Question 2 [12 points]: AMOC Variability\n",
    "This question uses both the RAPID array and the NOAA ERSSTv5 data products.\n",
    "\n",
    "**a.**\tUsing the RAPID 26°N array, plot the time series of 12-hour AMOC transport (variable: ‘moc_mar_hc10’). Overlay the 90-day smoothed AMOC transport (variable: ‘moc_mar_hc10_smooth90’) as a thicker line. Label all axes with appropriate units and add a title and legend. Include your plot in this document. \n",
    "\n",
    "**b.**\tIn what month and year did the strongest negative departure occur in the 90-day-smoothed AMOC transport time series? \n",
    "\n",
    "**c.** Using the NOAA ERSSTv5 dataset, calculate the climatology-removed SST anomalies. Then produce a global map of the SST anomalies during the month with the strongest negative AMOC departure determed in (b). Plot a horizontal line at 26.5°N representing the location of the RAPID array. Include your formatted map in this document.\n",
    "\n",
    "**d.** Comment on the pattern of SST anomaly in the Atlantic basin, especially relative to the RAPID Array measurements (i.e., how do the SST anomalies compare north and south of 26.5°N?)\n",
    "\n",
    "---\n",
    "**Hints:**\n",
    "- The `DataArray.argmin()` function will return the index of the minimum value of a DataArray\n",
    "- This index can then be applied to the ERSSTv5 data\n",
    "\n",
    "**Example code:**\n",
    "```\n",
    "# index for the minimum AMOC transport value (here for a DataArray called 'amoc')\n",
    "minIdx = amoc.argmin()\n",
    "\n",
    "# the time that corresponds with the the minimum AMOC transport value\n",
    "timeMinAMOC = amoc['time'][minIdx]\n",
    "```"
   ]
  },
  {
   "cell_type": "markdown",
   "id": "bf587f5f-a768-4acd-9c84-7e9326f91c17",
   "metadata": {
    "deletable": false,
    "editable": false
   },
   "source": [
    "### Canvas Submission\n",
    "\n",
    "Work closely with your partner to ensure your answers reflect your joint understanding of the material. \n",
    "\n",
    "**To submit your lab:**\n",
    "1. Re-run the whole Notebook and check there are no errors\n",
    "2. Submit your Jupyter Notebook (LastName_FirstName_EV353_PS3.ipynb) on Canvas (1 submission per person).\n",
    "3. Compile your group's written responses and all the figures you generated in a separate Word or Google document. Export the document as a PDF and upload it to Canvas (1 submission per group)."
   ]
  }
 ],
 "metadata": {
  "kernelspec": {
   "display_name": "Python 3 (ipykernel)",
   "language": "python",
   "name": "python3"
  },
  "language_info": {
   "codemirror_mode": {
    "name": "ipython",
    "version": 3
   },
   "file_extension": ".py",
   "mimetype": "text/x-python",
   "name": "python",
   "nbconvert_exporter": "python",
   "pygments_lexer": "ipython3",
   "version": "3.11.5"
  }
 },
 "nbformat": 4,
 "nbformat_minor": 5
}
