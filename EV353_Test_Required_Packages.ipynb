{
 "cells": [
  {
   "cell_type": "code",
   "execution_count": 1,
   "id": "00a23ed8",
   "metadata": {},
   "outputs": [
    {
     "name": "stdout",
     "output_type": "stream",
     "text": [
      "Y numpy\n",
      "Y xarray\n",
      "Y matplotlib\n",
      "Y cartopy\n",
      "Y scipy\n",
      "Y cmocean\n",
      "Y netCDF4\n"
     ]
    }
   ],
   "source": [
    "libs = [\"numpy\", \"xarray\", \"matplotlib\", \"cartopy\", \"scipy\", \"cmocean\", \"netCDF4\"]\n",
    "def import_test(mod):\n",
    "    import importlib\n",
    "    try:\n",
    "        importlib.import_module(mod)\n",
    "    except:\n",
    "        print(\"N\", end =\" \")\n",
    "    else:\n",
    "        print(\"Y\", end =\" \")\n",
    "    finally:\n",
    "        print(mod)\n",
    "\n",
    "for l in libs:\n",
    "    import_test(l)\n"
   ]
  }
 ],
 "metadata": {
  "kernelspec": {
   "display_name": "Python 3 (ipykernel)",
   "language": "python",
   "name": "python3"
  },
  "language_info": {
   "codemirror_mode": {
    "name": "ipython",
    "version": 3
   },
   "file_extension": ".py",
   "mimetype": "text/x-python",
   "name": "python",
   "nbconvert_exporter": "python",
   "pygments_lexer": "ipython3",
   "version": "3.11.5"
  }
 },
 "nbformat": 4,
 "nbformat_minor": 5
}
