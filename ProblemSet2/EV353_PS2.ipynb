{
 "cells": [
  {
   "cell_type": "markdown",
   "id": "71a8153f-198e-4568-9ecc-0d26fd10a6aa",
   "metadata": {
    "deletable": false,
    "editable": false
   },
   "source": [
    "# EV353 Problem Set 2 - Forces and Processes Driving Ocean Currents\n",
    "## Part 2: Python Data Analysis\n",
    "\n",
    "### Overview\n",
    "\n",
    "The surface ocean’s heat, salt, and momentum budgets are the pathways for coupled ocean-atmosphere interactions that drive global climate variability. This problem set explores how the ocean’s velocity field balances the surface fluxes and contributes to the evolution of sea surface temperature (SST) and salinity over time.\n",
    "\n",
    "In this problem set, you will demonstrate both your *qualitative and quantitative* understanding of the ocean's momentum budget and response to wind forcing. Your responses should incorporate the concepts covered in class and the assigned readings. Chapters 4-6 (6.1 & 6.2) in *Physical Oceanography and Climate* by Kris Karnauskas and this week’s scientific papers will be helpful references. \n",
    "\n",
    "**To foster a collaborative learning environment, you will complete this lab with a partner.** The pairings will be randomly determined in class and posted on Canvas. Each person is required to complete and contribute to all questions. This includes performing all calculations/analyses and writing your own code. *It is against the honor code to divide up the questions among different individuals or use generative AI/chatbots on any aspect this assignment. All answers must be written in your own words.*\n",
    "\n",
    "### Learning Outcomes\n",
    "\n",
    "After completing this assignment, you will be able to:\n",
    "- Describe the forces and processes that drive ocean currents both mathematically and in plain language.\n",
    "- Evaluate how the sea surface height gradient is used to calculate geostrophic currents.\n",
    "- Apply the momentum budget equations to real-world observations.   \n",
    "- Articulate the significance of the ocean’s response to wind forcing in the context of the broader global climate system.\n",
    "\n",
    "### Assignment Structure\n",
    "\n",
    "**Part 1** includes written responses and hand calculations. To receive full credit, you must show your work and explain your reasoning. **Part 2** includes data analysis exercises in Python. You will use this Jupyter Notebooks to manipulate and visualize geospatial datasets, perform calculations, and interpret the results.\n",
    "\n",
    "---\n",
    "### Data Sets \n",
    "To complete this lab, you will need the following data sets (posted on Canvas):\n",
    "\n",
    "``aviso.nc`` AVISO Sea Surface Height (satellite product) \n",
    "\n",
    "*The high resolution file will display nicer maps, but a lower resolution file (1° horizontal resolution) is also available if your computer is short on space. Talk to Dr. Lawman if you have questions about this.*\n",
    "\n",
    "---\n",
    "### Assessment\n",
    "Generating high-quality figures is an important part of science comunication! All figures must be properly formatted to receive full credit. This means including titles, axes labels (with units), and legends, as appropriate. The aspect ratio should be appropriate for the type of figure (i.e., the figures are not compressed or stretched). \n",
    "\n",
    "Please use the Python packages [cartopy](https://scitools.org.uk/cartopy/docs/latest/) and [cmocean colormaps for oceanography](https://matplotlib.org/cmocean/) when generating maps. Take care to use intuitive colormaps and colorbar levels for the type of data you are representing. \n",
    "\n",
    "The grading rubric for part 2 is provided at the end of the companion Word Document for this assignment."
   ]
  },
  {
   "cell_type": "code",
   "execution_count": 1,
   "id": "0b83e91e-12b1-4158-b9cd-344f5d77cc1e",
   "metadata": {
    "deletable": false,
    "editable": false
   },
   "outputs": [],
   "source": [
    "# import Python packages\n",
    "import xarray as xr\n",
    "import numpy as np\n",
    "import matplotlib.pyplot as plt\n",
    "import cmocean\n",
    "import cartopy.crs as ccrs\n",
    "import cartopy.feature as cfeature\n",
    "import math"
   ]
  },
  {
   "cell_type": "markdown",
   "id": "8a1e691a-0de5-4ec9-a89a-d0c9e743801d",
   "metadata": {
    "deletable": false,
    "editable": false
   },
   "source": [
    "## Follow Geostrophic Currents to \"Find Nemo\" \n",
    "\n",
    "**Step 1:** Load the AVISO sea surface height data (0.25° latitude x 0.25° longitude global grid) and subset the data to January 1993 to December 2010. Then generate a map of the time averaged sea surface height ($\\eta$). Describe your general observations in your write-up for the problem set.\n",
    "\n",
    "**Step 2:** Generate a global map showing the Coriolis frequency. The angular velocity of Earth ($\\Omega$) is 7.292 x 10$^{-5}$ radians/second. Comapre and contrast the values at the equator versus the mid- and high-latitudes in your lab write-up. Does your map make sense? \n",
    "\n",
    "**Tips:**\n",
    "- There is a variable in the AVISO dataset called `lat_grid` that has repeated latitude values at every longitude. This will be helpful for calculating the Coriolis frequency at every lat/lon gridpoint.\n",
    "- The latitude values are provided in degrees. Remember to convert from degrees to radians when using the Numpy sine method `np.sin()`.\n",
    "\n",
    "**Step 3:** Calculate the time averaged geostrophic velocity (units: m/s) and produce global maps of $u_g$, $v_g$, and the scalar geostrophic speed $\\sqrt{u_g^2 + v_g^2}$. Include titles, axes labels (with units), and intuitive colorbars that are scaled appropriately for the data. \n",
    "\n",
    "**Tips:** \n",
    "- Calculate the spatial sea surface height gradients using Xarray's `da.differentiate()` method where `da` is a 2-dimensional data array. Provide the dimension you want to calculate the gradient over inside the parentheses.\n",
    "- The denominator of $\\partial \\eta$/$\\partial x$ and $\\partial \\eta$/$\\partial y$ requires knowing the distance between grid points. The distance covered by 1° of latitude is approximately 111 km (111,000 m). The distance covered by 1° of longitude depends on the latitude (think about how much larger the circumference of the Earth is at the equator versus at 80°N)\n",
    "- To calculate the geostrophic current velocity in m/s, divide your $u_g$ value by `(2*0.25*111000)` \n",
    "- Divide $v_g$ by `(2*0.25*111000*np.cos(np.deg2rad(lat_grid)))` where `lat_grid` is converted to radians before calculating the sine.\n",
    "\n",
    "**Step 4:** Zoom into the ocean region to the east of Australia, by generating 3 regional maps. This can be done by setting the map extent. \n",
    "\n",
    "**Step 5:** Save your figures and add them to your write-up. Interpret your figures and answer the accompanying questions in the Word document for the problem set."
   ]
  },
  {
   "cell_type": "markdown",
   "id": "e4897512-9990-4de3-810a-0ec205a5dd8e",
   "metadata": {
    "deletable": false,
    "editable": false
   },
   "source": [
    "### Canvas Submission\n",
    "\n",
    "Work closely with your partner to ensure your answers reflect your joint understanding of the material. \n",
    "\n",
    "**To submit your lab:**\n",
    "1. Re-run the whole Notebook and check there are no errors\n",
    "2. Submit your Jupyter Notebook (LastName_FirstName_EV353_PS2.ipynb) on Canvas (1 submission per person).\n",
    "3. Compile your group's written responses and all the figures you generated in a separate Word or Google document. Export the document as a PDF and upload it to Canvas (1 submission per group)."
   ]
  },
  {
   "cell_type": "code",
   "execution_count": null,
   "id": "0811825c-04c8-4fef-8e5f-021f6259f27f",
   "metadata": {
    "deletable": false,
    "editable": false
   },
   "outputs": [],
   "source": []
  }
 ],
 "metadata": {
  "kernelspec": {
   "display_name": "Python 3 (ipykernel)",
   "language": "python",
   "name": "python3"
  },
  "language_info": {
   "codemirror_mode": {
    "name": "ipython",
    "version": 3
   },
   "file_extension": ".py",
   "mimetype": "text/x-python",
   "name": "python",
   "nbconvert_exporter": "python",
   "pygments_lexer": "ipython3",
   "version": "3.11.5"
  }
 },
 "nbformat": 4,
 "nbformat_minor": 5
}
