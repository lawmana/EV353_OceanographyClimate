{
 "cells": [
  {
   "cell_type": "markdown",
   "id": "728483b2-c000-46ca-8636-7d65cc4115ee",
   "metadata": {
    "deletable": false,
    "editable": false
   },
   "source": [
    "### EV353 Oceanography and Climate In-class Data Analysis Activity\n",
    "\n",
    "**Equatorial wind stress and zonal ocean velocity**"
   ]
  },
  {
   "cell_type": "markdown",
   "id": "a39bc224-ed38-4b26-a9f9-bdf7c9fd07e1",
   "metadata": {
    "deletable": false,
    "editable": false
   },
   "source": [
    "The Simple Ocean Data Assimilation (SODA) Reanalysis is an ocean general circulation model that is constrained by observations through a process called data assimilation. Reanalysis products are useful tools because there are not observations for every location and time in the past. Essentially the gaps in observations are filled in with the model's physical equations.\n",
    "\n",
    "The dataset `soda.nc` is needed for this activity. This NetCDF file includes only the full monthly zonal wind stress and zonal ocean velocity down to 200 m along the equator (averaged from 0.5°S to 0.5°N). \n",
    "\n",
    "----\n",
    "**1. Open and display the zonal wind stress and zonal ocean velocity and meridional wind components using xarray**\n",
    "\n",
    "Sample code provided below for you to modify:\n",
    "\n",
    "```\n",
    "# open dataset using xarray (soda.nc)\n",
    "filePath = 'paste your filepath here'\n",
    "ds = xr.open_dataset(filePath)\n",
    "\n",
    "# display dataset\n",
    "ds\n",
    "```\n",
    "\n",
    "**2. Calculate and plot the time-mean zonal wind stress $\\tau_x$ and zonal ocean velocity $u$ along the equator**\n",
    "\n",
    "Generate a depth vs. longitude cross-section of zonal ocean velocity (*Hint: Refer to PS#1 for sample code to make a filled contour plot*). Then generate a simple line plot of wind stress versus longitude. Identify the longitudes for the Pacific Ocean.\n",
    "\n",
    "**3. Interpret your results!**\n",
    "\n",
    "- What is the direction of the surface ocean current along the equator?\n",
    "- Can you spot the Equatorial Undercurrent (EUC) beneath the surface?\n",
    "- What is the depth of the EUC, and how does that depend on longitude?\n",
    "- How does the Pacific EUC compare to any analogous circulation features in the equatorial Indian and Atlantic Ocean?\n",
    "\n",
    "**4. Investigate $\\tau_x$ and $u$ changes during El Niño events** \n",
    "\n",
    "Describe the changes in $\\tau_x$ and the EUC during the peak of an El Niño event (e.g., January 1998) compared to the time-mean. This can be answered multiple ways so brainstorm some ideas with your classmates to help you visualize the results and answer the question. \n",
    "\n",
    "Add your observations in a Markdown cell and discuss them with your classmates."
   ]
  },
  {
   "cell_type": "code",
   "execution_count": 1,
   "id": "c4772bdb-b227-499d-a3f5-3c359e692dcb",
   "metadata": {
    "deletable": false,
    "editable": false
   },
   "outputs": [],
   "source": [
    "# import Python packages\n",
    "import xarray as xr\n",
    "import numpy as np\n",
    "import matplotlib.pyplot as plt\n",
    "import cmocean\n",
    "import cartopy.crs as ccrs\n",
    "import cartopy.feature as cfeature"
   ]
  },
  {
   "cell_type": "code",
   "execution_count": null,
   "id": "6ee84127-6978-466d-9d71-33b354cd99ff",
   "metadata": {
    "deletable": false,
    "editable": false
   },
   "outputs": [],
   "source": []
  }
 ],
 "metadata": {
  "kernelspec": {
   "display_name": "Python 3 (ipykernel)",
   "language": "python",
   "name": "python3"
  },
  "language_info": {
   "codemirror_mode": {
    "name": "ipython",
    "version": 3
   },
   "file_extension": ".py",
   "mimetype": "text/x-python",
   "name": "python",
   "nbconvert_exporter": "python",
   "pygments_lexer": "ipython3",
   "version": "3.11.5"
  }
 },
 "nbformat": 4,
 "nbformat_minor": 5
}
