{
 "cells": [
  {
   "cell_type": "code",
   "execution_count": 1,
   "id": "0ab3886d-1a8e-48d6-ae2e-876191645bc9",
   "metadata": {
    "deletable": false,
    "editable": false
   },
   "outputs": [],
   "source": [
    "# import Python packages\n",
    "import xarray as xr\n",
    "import numpy as np\n",
    "import matplotlib.pyplot as plt\n",
    "import cmocean\n",
    "import cartopy.crs as ccrs\n",
    "import cartopy.feature as cfeature"
   ]
  },
  {
   "cell_type": "markdown",
   "id": "a5faaa89-84af-4bdb-8913-6b66b23ec486",
   "metadata": {
    "deletable": false,
    "editable": false
   },
   "source": [
    "**Open and display the OA Flux dataset using xarray (sample code provided below for you to modify):**\n",
    "\n",
    "```\n",
    "# open dataset using xarray (oaflux.nc)\n",
    "filePath = 'paste your filepath here'\n",
    "ds = xr.open_dataset(filePath)\n",
    "\n",
    "# display dataset\n",
    "ds\n",
    "```"
   ]
  },
  {
   "cell_type": "markdown",
   "id": "a941fcb9-66ae-4d72-8a02-d89535260ab7",
   "metadata": {
    "deletable": false,
    "editable": false
   },
   "source": [
    "**Dataset variables and coordinates:**\n",
    "- lat: latitude vector\n",
    "- lon:    longitude vector (0-360 format)\n",
    "- time   time vector (1984-2009)\n",
    "- qsw    net downward shortwave radiation (W/m2) (time x lon x lat)\n",
    "- qlw    net upward longwave radiation (W/m2) (time x lon x lat)\n",
    "- qsh    net upward sensible heat flux (W/m2) (time x lon x lat)\n",
    "- qlh    net upward latent heat flux (W/m2) (time x lon x lat)\n",
    "\n",
    "**Instructions:**\n",
    "\n",
    "1. Define variables for all 4 heat flux terms and calculate the time-mean net heat flux as a variable called `qnet`\n",
    "\n",
    "2. Plot a global map of q_net. Some code is provided below to help get you started. \n",
    "\n",
    "3. Then for two different locations in the world ocean, estimate the rate of change of SST ($\\partial T$/$\\partial t$) in degrees C per week that would occur perpetually if net surface heat flux constituted the entire ocean mixed layer heat budget (i.e., no advection or mixing). For locations within the topics, assume a mixed layer depth h of 30 m. Otherwise use h = 80 m. Assume a constant mixed layer seawater density of 1025 kg/m$^3$\n",
    "\n",
    "**Sample map code:**\n",
    "```\n",
    "# map projection, colormap using cmocean, and levels for the colorbar\n",
    "proj = ccrs.Robinson(central_longitude=180)\n",
    "cmap = cmocean.cm.balance\n",
    "lev = np.arange(-150, 160, 10)\n",
    "\n",
    "fig = plt.figure(figsize=(9, 4.5), dpi=300)\n",
    "ax = plt.axes(projection = proj)\n",
    "\n",
    "# filled contour map of DataArray\n",
    "#...add your code here...\n",
    "```"
   ]
  },
  {
   "cell_type": "code",
   "execution_count": null,
   "id": "b6870c2a-bb9b-4b98-a230-be74f4a94064",
   "metadata": {
    "deletable": false,
    "editable": false
   },
   "outputs": [],
   "source": []
  }
 ],
 "metadata": {
  "kernelspec": {
   "display_name": "Python 3 (ipykernel)",
   "language": "python",
   "name": "python3"
  },
  "language_info": {
   "codemirror_mode": {
    "name": "ipython",
    "version": 3
   },
   "file_extension": ".py",
   "mimetype": "text/x-python",
   "name": "python",
   "nbconvert_exporter": "python",
   "pygments_lexer": "ipython3",
   "version": "3.11.5"
  }
 },
 "nbformat": 4,
 "nbformat_minor": 5
}
