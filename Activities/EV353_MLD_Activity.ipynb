{
 "cells": [
  {
   "cell_type": "markdown",
   "id": "b21332df-cf4a-4276-bfe4-2c904e76fcd9",
   "metadata": {
    "deletable": false,
    "editable": false
   },
   "source": [
    "### EV353 Oceanography and Climate In-class Data Analysis Activity\n",
    "\n",
    "**The global mixed layer depth and its seasonal variations**"
   ]
  },
  {
   "cell_type": "markdown",
   "id": "6e0a4e81-bf31-4e31-a765-01c88250a8fb",
   "metadata": {
    "deletable": false,
    "editable": false
   },
   "source": [
    "The ocean MLD, *h* is a key variable in many fundamental equations and budgets in physical oceanography. For this activity, you will work with the IFREMER Mixed Layer Depth (MLD) Climatology. The dataset is a globally gridded climatology of MLD informed by hydrographic profiles taken from ships, floats, etc. The dataset has 2° spatial resolution and includes monthly averages from 1941-2002.\n",
    "\n",
    "The dataset `mld.nc` has multiple criteria for defining the MLD, including one based on a temperature change relative to the surface (0.2°C) and one based on a density change relative to the surface (0.03 kg/m$^3$).  \n",
    "\n",
    "- **mld_DT:** mixed layer depth using temperature criterion, DT=0.2 deg C; (units: m) (month x lat x lon)\n",
    "- **mld_DR:** mixed layer depth using density criterion, DR=0.03 kg/m; (units: m) (month x lat x lon)\n",
    "\n",
    "**Reference for the data:** deBoyer et al. (2004) \"Mixed layer depth over the global ocean: An examination of profile data and a profile-based climatology,\" *Journal of Geophysical Research*\n",
    "\n",
    "---\n",
    "\n",
    "**1. Open and display the mixed layer depth dataset using xarray (sample code provided below for you to modify)**\n",
    "\n",
    "```\n",
    "# open dataset using xarray (mld.nc)\n",
    "filePath = 'paste your filepath here'\n",
    "ds = xr.open_dataset(filePath)\n",
    "\n",
    "# display dataset\n",
    "ds\n",
    "```\n",
    "\n",
    "**2. Then generate global maps of the average annual cycle of mixed layer depth using both MLD criteria (temperature and salinity)** \n",
    "\n",
    "**3. Once you generate your maps, interpret the results!**\n",
    "- Compare and contrast the annual cycle of MLD at different locations around the world\n",
    "- Investigate how the two MLD criteria compare at different locations \n",
    "- Discuss which processes are important for explaining the observed *spatial* patterns\n",
    "- Discuss which processes are important for explaining the observed *temporal changes* throughout the course of a year\n",
    "\n",
    "Add your observations and discussion notes in a Markdown cell."
   ]
  },
  {
   "cell_type": "code",
   "execution_count": 1,
   "id": "2baa64ed-be53-4d8f-8013-3b4ac5e9ff76",
   "metadata": {
    "deletable": false,
    "editable": false
   },
   "outputs": [],
   "source": [
    "# import Python packages\n",
    "import xarray as xr\n",
    "import numpy as np\n",
    "import matplotlib.pyplot as plt\n",
    "import cmocean\n",
    "import cartopy.crs as ccrs\n",
    "import cartopy.feature as cfeature"
   ]
  }
 ],
 "metadata": {
  "kernelspec": {
   "display_name": "Python 3 (ipykernel)",
   "language": "python",
   "name": "python3"
  },
  "language_info": {
   "codemirror_mode": {
    "name": "ipython",
    "version": 3
   },
   "file_extension": ".py",
   "mimetype": "text/x-python",
   "name": "python",
   "nbconvert_exporter": "python",
   "pygments_lexer": "ipython3",
   "version": "3.11.5"
  }
 },
 "nbformat": 4,
 "nbformat_minor": 5
}
