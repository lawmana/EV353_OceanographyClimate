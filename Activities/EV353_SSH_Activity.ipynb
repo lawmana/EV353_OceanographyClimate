{
 "cells": [
  {
   "cell_type": "markdown",
   "id": "e70e1377-0ddb-45e5-ab2d-e6efd39aabbf",
   "metadata": {
    "deletable": false,
    "editable": false
   },
   "source": [
    "### EV353 Oceanography and Climate In-class Data Analysis Activity\n",
    "\n",
    "**Global sea surface height $\\eta$**"
   ]
  },
  {
   "cell_type": "markdown",
   "id": "4be138c4-e503-413d-b087-9e9ae3b37874",
   "metadata": {
    "deletable": false,
    "editable": false
   },
   "source": [
    "Sea surface height ($\\eta$) is a key oceanographic variable measured with satellites that is conventiently proportional to pressure.  For this activity, you will work with the AVISO sea surface height product. The low-resolution dataset that you will use here is globally gridded at 1° horizontal resolution from 1993-2010.\n",
    "\n",
    "The dataset `aviso_lowres.nc` is needed for this activity.  \n",
    "\n",
    "----\n",
    "**1. Open and display the mixed layer depth dataset using xarray (sample code provided below for you to modify)**\n",
    "\n",
    "```\n",
    "# open dataset using xarray (aviso_lowres.nc)\n",
    "filePath = 'paste your filepath here'\n",
    "ds = xr.open_dataset(filePath)\n",
    "\n",
    "# display dataset\n",
    "ds\n",
    "```\n",
    "\n",
    "**2. Then generate a global map of the time-averaged sea surface height field** \n",
    "\n",
    "**3. Once you generate your map, interpret the results!**\n",
    "- Examine the time-averaged sea surface height field\n",
    "- Broadly, where in the world ocean is ($\\eta$) relatively high and relatively low?\n",
    "- Where are there particularly strong horizontal gradients of ($\\eta$)?\n",
    "\n",
    "**4. Plot a few profiles of ($\\eta$) along various lines of latitude**\n",
    "- Are zonal ($\\eta$) gradients stronger along the equator or in the midlatitudes (~30°N/S)\n",
    "\n",
    "Add your observations in a Markdown cell and discuss them with your classmates."
   ]
  },
  {
   "cell_type": "code",
   "execution_count": 1,
   "id": "f6a2d872-7cc1-4454-872e-b6f4fb84d147",
   "metadata": {
    "deletable": false,
    "editable": false
   },
   "outputs": [],
   "source": [
    "# import Python packages\n",
    "import xarray as xr\n",
    "import numpy as np\n",
    "import matplotlib.pyplot as plt\n",
    "import cmocean\n",
    "import cartopy.crs as ccrs\n",
    "import cartopy.feature as cfeature"
   ]
  },
  {
   "cell_type": "code",
   "execution_count": null,
   "id": "ea7a7461-b9aa-4e04-b4f5-a42838316eee",
   "metadata": {
    "deletable": false,
    "editable": false
   },
   "outputs": [],
   "source": []
  }
 ],
 "metadata": {
  "kernelspec": {
   "display_name": "Python 3 (ipykernel)",
   "language": "python",
   "name": "python3"
  },
  "language_info": {
   "codemirror_mode": {
    "name": "ipython",
    "version": 3
   },
   "file_extension": ".py",
   "mimetype": "text/x-python",
   "name": "python",
   "nbconvert_exporter": "python",
   "pygments_lexer": "ipython3",
   "version": "3.11.5"
  }
 },
 "nbformat": 4,
 "nbformat_minor": 5
}
