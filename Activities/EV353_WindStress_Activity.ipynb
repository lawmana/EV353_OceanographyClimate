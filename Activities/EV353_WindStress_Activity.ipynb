{
 "cells": [
  {
   "cell_type": "markdown",
   "id": "063611c8-a72e-4a15-812d-3e7583bd78a9",
   "metadata": {
    "deletable": false,
    "editable": false
   },
   "source": [
    "### EV353 Oceanography and Climate In-class Data Analysis Activity\n",
    "\n",
    "**Global Wind Stress Fields**"
   ]
  },
  {
   "cell_type": "markdown",
   "id": "e7cb7fae-6a13-43f6-9606-0b32b3a1533e",
   "metadata": {
    "deletable": false,
    "editable": false
   },
   "source": [
    "The cross-calibrated multi-platform (CCMP) Ocean Surface Winds product is a blend of satellite products and in-situ observations of near-surface (10m) wind speeds over the ocean. We will use this dataset to investigate ocean-atmosphere interactions.\n",
    "\n",
    "The dataset `ccmp.nc` is needed for this activity.  \n",
    "\n",
    "----\n",
    "**1. Open and display the zonal and meridional wind components using xarray (sample code provided below for you to modify)**\n",
    "\n",
    "```\n",
    "# open dataset using xarray (ccmp.nc)\n",
    "filePath = 'paste your filepath here'\n",
    "ds = xr.open_dataset(filePath)\n",
    "\n",
    "# display dataset\n",
    "ds\n",
    "```\n",
    "\n",
    "**2. Use the wind components, calculate and produce global maps of the time-averaged meridional wind stress $\\tau_y$ and zonal wind stress $\\tau_x$.**\n",
    "\n",
    "Revisit the ocean's momentum budget for the equations to calculate wind stress from meridional wind speed $v_a$ and zonal wind speed $u_a$. Assume the surface air density $\\rho_a$ = 1.2 $kg/m^3$ and the drag coefficient $C_d$ = 0.0013. Take care to retain the sign of $\\tau_y$ and $\\tau_u$.\n",
    "\n",
    "**3. Once you generate your map, interpret the results!**\n",
    "Select a tropical region and identify the latitude of the ITCZ at that longitude using a criterion developed based on $\\tau$.\n",
    "\n",
    "**4. Test your criterion by generating maps to show the seasonal cycle in $\\tau_y$.** \n",
    "- How does the ITCZ latitude vary as a function of season? \n",
    "- Are there any regions or longitude ranges where such an objective criterion struggles to identify the latitude of the ITCZ? How do?\n",
    "\n",
    "Add your observations in a Markdown cell and discuss them with your classmates."
   ]
  },
  {
   "cell_type": "code",
   "execution_count": 1,
   "id": "04d5a533-1856-4b9d-a707-83475d572955",
   "metadata": {
    "deletable": false,
    "editable": false
   },
   "outputs": [],
   "source": [
    "# import Python packages\n",
    "import xarray as xr\n",
    "import numpy as np\n",
    "import matplotlib.pyplot as plt\n",
    "import cmocean\n",
    "import cartopy.crs as ccrs\n",
    "import cartopy.feature as cfeature"
   ]
  },
  {
   "cell_type": "code",
   "execution_count": null,
   "id": "fbd68152-06b5-4935-aaf2-fa42a1fe4cd0",
   "metadata": {
    "deletable": false,
    "editable": false
   },
   "outputs": [],
   "source": []
  }
 ],
 "metadata": {
  "kernelspec": {
   "display_name": "Python 3 (ipykernel)",
   "language": "python",
   "name": "python3"
  },
  "language_info": {
   "codemirror_mode": {
    "name": "ipython",
    "version": 3
   },
   "file_extension": ".py",
   "mimetype": "text/x-python",
   "name": "python",
   "nbconvert_exporter": "python",
   "pygments_lexer": "ipython3",
   "version": "3.11.5"
  }
 },
 "nbformat": 4,
 "nbformat_minor": 5
}
