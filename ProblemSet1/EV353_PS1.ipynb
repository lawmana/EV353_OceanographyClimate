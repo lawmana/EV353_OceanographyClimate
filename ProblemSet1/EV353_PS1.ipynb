{
 "cells": [
  {
   "cell_type": "markdown",
   "id": "3b0cbbc5-c7aa-479f-abb5-eb114bebc541",
   "metadata": {
    "deletable": false,
    "editable": false
   },
   "source": [
    "# EV353 Problem Set 1 - The Ocean Mixed Layer Heat and Salt Budgets \n",
    "## Part 2: Python Data Analysis\n",
    "\n",
    "### Overview\n",
    "\n",
    "The mixed layer is the uppermost layer of the surface ocean where temperature and salinity are approximately constant with depth. All exchanges of mass and energy between the ocean and the atmosphere pass through the mixed layer, making it a crucial component of climate variability.\n",
    "\n",
    "In this problem set, you will demonstrate both your *qualitative and quantitative* understanding of the surface ocean’s heat and salinity budgets. Your responses should incorporate the concepts covered in class and the assigned readings. Chapters 1-3 in Physical Oceanography and Climate by Kris Karnauskas and this week’s scientific papers will be helpful references. \n",
    "\n",
    "**To foster a collaborative learning environment, you will complete this lab with a partner.** The pairings will be randomly determined in class and posted on Canvas. Each person is required to complete and contribute to all questions. This includes performing all calculations/analyses and writing your own code. *It is against the honor code to divide up the questions among different individuals or use generative AI/chatbots on any aspect this assignment. All answers must be written in your own words.*\n",
    "\n",
    "### Learning Outcomes\n",
    "\n",
    "After completing this assignment, you will be able to:\n",
    "- Describe the physical processes that control the temperature and salinity of seawater both mathematically and in plain language.\n",
    "- Apply the heat and salinity budget equations to real-world observations.\n",
    "- Articulate the significance of energy and mass fluxes through the ocean-atmosphere interface in the context of the broader global climate system.\n",
    "\n",
    "### Assignment Structure\n",
    "\n",
    "**Part 1** includes written responses and hand calculations. To receive full credit, you must show your work and explain your reasoning. **Part 2** includes data analysis exercises in Python. You will use this Jupyter Notebooks to manipulate and visualize geospatial datasets, perform calculations, and interpret the results.\n",
    "\n",
    "---\n",
    "### Data Sets \n",
    "To complete this lab, you will need the following data sets (posted on Canvas):\n",
    "1. ``oiv2.nc`` NOAA Optimal Interpolation Sea Surface Temperature version 2 (OISST v2) \n",
    "2. ``tao.nc`` NOAA Tropical Atmosphere-Ocean (TAO) Array\n",
    "3. ``aquarius.nc`` Aquarius Sea Surface Salinity\n",
    "4. ``gpcp.nc`` Global Precipitation Climatology Project (GPCP)\n",
    "\n",
    "---\n",
    "### Assessment\n",
    "Generating high-quality figures is an important part of science comunication! All figures (time series & maps) must be properly formatted to receive full credit. This means including titles, axes labels (with units), and legends, as appropriate. The aspect ratio should be appropriate for the type of figure (i.e., the figures are not compressed or stretched). \n",
    "\n",
    "Please use the Python packages [cartopy](https://scitools.org.uk/cartopy/docs/latest/) and [cmocean colormaps for oceanography](https://matplotlib.org/cmocean/) when generating maps. Take care to use intuitive colormaps and colorbar levels for the type of data you are representing. \n",
    "\n",
    "The grading rubric for part 2 is provided at the end of the companion Word Document for this assignment."
   ]
  },
  {
   "cell_type": "code",
   "execution_count": 1,
   "id": "a25b1d71-24e8-47f8-97b3-3282d279bf43",
   "metadata": {
    "deletable": false,
    "editable": false
   },
   "outputs": [],
   "source": [
    "# import Python packages\n",
    "import xarray as xr\n",
    "import numpy as np\n",
    "import matplotlib.pyplot as plt\n",
    "import cmocean\n",
    "import cartopy.crs as ccrs\n",
    "import cartopy.feature as cfeature\n",
    "from cartopy.util import add_cyclic_point"
   ]
  },
  {
   "cell_type": "markdown",
   "id": "420ca099-357f-4e4f-972c-6c01e1e346de",
   "metadata": {
    "deletable": false,
    "editable": false
   },
   "source": [
    "## Question 1 [13 points]: The Mixed Layer Heat Budget\n",
    "\n",
    "Using the NOAA OISSTv2 product (1° latitude x 1° longitude global grid) and the TAO array, describe how the equatorial thermocline varies as a function of longitude. How does the equatorial thermocline relate to the variation of SST along the equator? Based on the relationship you identified between SST and the depth of the thermocline, where would you expect more productive marine ecosystems and why? \n",
    "\n",
    "To answer the questions above, use Python to generate a global map of average SST from 1982 until the end of the record. Then generate a depth vs. longitude temperature cross section along the equator using the TAO data array. Annotate your vertical cross section in code or by hand to indicate the approximate bounds of the Pacific, Atlantic, and Indian Ocean basins. Paste your final figures in your main problem set document.\n",
    "\n",
    "**Some steps to help get you started...** \n",
    "\n",
    "Add cells below (**`+`**) with your code. Please use comments (**`#`**) to organize your code and make it more readable. \n",
    "\n",
    "1. Load the OISSTv2 data set using the xarray open_dataset function (`oiv2 = xr.open_dataset('oiv2.nc')`). *You may need to specify the full file path for the data depending on where it is stored on your computer.*\n",
    "2. Define a variable called `sst` that is the sst DataArray within the oiv2 DataSet   \n",
    "3. Define a variable called `sst_mean` and calculate the long-term mean SST from 1982 to the end of the record \n",
    "4. Generate a Pacific-centered map of average SST using cartopy, matplotlib, and the cmocean thermal colormap. The Robinson projection centered on 180° longitude on the Pacific is recommended. Add a colorbar and label it with the appropriate units. Some example code is provided below to help get you started. *Hint: use `sst.plot.contourf()`*\n",
    "5. Add outlines for the coastlines and dashed latitude/longitude gridlines to your map to help locate the equator.\n",
    "6. The land values are filled by a Cressman interpolation to produce a complete grid for possible interpolation to other grids (see documentation [here](https://psl.noaa.gov/data/gridded/data.noaa.oisst.v2.html)). Given that there is no analysis over land, fill in the land to highlight only the SST data (e.g., with a lightgray color).\n",
    "7. Add a title to your map and save the figure as `oiv2_mean_sst.png`\n",
    "8. Load the TAO array data set for the equatorial Pacific using xarray (`tao = xr.open_dataset('tao.nc')`)\n",
    "9. Plot a depth vs. longitude temperature cross section along the equator. Use the same cmocean thermal colormap and levels as the SST map to facilitate comparison. Invert the y-axis so that the surface (0 m) is at the top of the figure. Add a title and label all axes. Save the figure as `tao_mean_temp_cross_section.png`\n",
    "10. Annotate the mean SST map using code (preferred) or by hand to indicate the longitude bounds of the TAO data array along the equator.\n",
    "\n",
    "---\n",
    "\n",
    "**Example mapping code:**\n",
    "\n",
    "Use the following map projections and colormap:  \n",
    "```\n",
    "# map projection (Robinson, centered on 180° longitude in the Pacific)\n",
    "proj = ccrs.Robinson(central_longitude=180)\n",
    "\n",
    "# selected color map from cmocean colormaps for oceanography\n",
    "cmap = cmocean.cm.thermal\n",
    "\n",
    "# NumPy array for the color bar levels, add a range appropriate for the data\n",
    "lev = np.arange(...enter your range here...)\n",
    "\n",
    "# define figure and axes, figure size, and resolution (300 dpi))\n",
    "fig = plt.figure(figsize=(9, 4.5), dpi=300)\n",
    "ax = plt.axes(projection = proj)\n",
    "\n",
    "#...add your mapping code below...\n",
    "\n",
    "# save figure \n",
    "fig.savefig('oiv2_mean_sst.png', facecolor = 'white', transparent = False, bbox_inches ='tight')\n",
    "```"
   ]
  },
  {
   "cell_type": "markdown",
   "id": "30436847-b11e-45d5-b6f6-c99ae8e0b2a5",
   "metadata": {
    "deletable": false,
    "editable": false
   },
   "source": [
    "## Question 2 [12 points]: The Mixed Layer Salt Budget\n",
    "\n",
    "Compare the change in annual average precipitation from 2013 to 2014 with that of SSS by generating global maps. The Aquarius SSS data is  subset to 2012-2014. You will need to calculate the 2013 and 2014 annual averages by indexing the data. You will also need to subset the GPCP data to 2013 and 2014 before calculating each year's average. \n",
    "\n",
    "Plot the annual averages and the 2014-2013 differences (∆SSS & ∆P) for a total of 6 maps (3 maps per variable). Choose colormaps that intuitively represents the data and follow the same figure formatting guidelines as the SST map generated above (e.g., titles, labels, etc.). You do not need to shade the land for the precipitation data, but should for the SSS data. \n",
    "\n",
    "Identify 3 regions where the year-to-year change in precipitation is particularly well reflected in the SSS change and qualitatively describe your observations. Save your final figures and paste them in your group's document.\n",
    "\n",
    "Then calculate the magnitude of the sensitivity of annual average SSS to annual average precipitation rate (∆SSS/∆P) for a location in the western Pacific off the coast of Papua New Guinea (0°N, 160°E). Then repeat this calculation for 2 other locations you identified above. Round your answers to two decimal places and include the units.\n",
    "\n",
    "**Add cells below (**`+`**) with your code. Please use comments (**`#`**) to organize your code and make it more readable.**"
   ]
  },
  {
   "cell_type": "markdown",
   "id": "a2420581-4043-4aa8-b46b-7d73d5be5a39",
   "metadata": {
    "deletable": false,
    "editable": false
   },
   "source": [
    "### Canvas Submission\n",
    "\n",
    "Work closely with your partner to ensure your answers reflect your joint understanding of the material. \n",
    "\n",
    "**To submit your lab:**\n",
    "1. Re-run the whole Notebook and check there are no errors\n",
    "2. Submit your Jupyter Notebook (LastName_FirstName_EV353_PS1.ipynb) on Canvas (1 submission per person).\n",
    "3. Compile your group's written responses and all the figures you generated in a separate Word or Google document. Export the document as a PDF and upload it to Canvas (1 submission per group)."
   ]
  }
 ],
 "metadata": {
  "kernelspec": {
   "display_name": "Python 3 (ipykernel)",
   "language": "python",
   "name": "python3"
  },
  "language_info": {
   "codemirror_mode": {
    "name": "ipython",
    "version": 3
   },
   "file_extension": ".py",
   "mimetype": "text/x-python",
   "name": "python",
   "nbconvert_exporter": "python",
   "pygments_lexer": "ipython3",
   "version": "3.11.5"
  }
 },
 "nbformat": 4,
 "nbformat_minor": 5
}
